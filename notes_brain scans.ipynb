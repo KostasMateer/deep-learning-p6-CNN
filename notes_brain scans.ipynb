{
 "cells": [
  {
   "cell_type": "markdown",
   "id": "26718f01-883a-4b92-9a9d-69a63ca50eec",
   "metadata": {},
   "source": [
    "had to use sklearn test_train split to gather validation set\n",
    "- was because validation_split on .fit() was creating val acc of 0"
   ]
  },
  {
   "cell_type": "markdown",
   "id": "7f87f2f6-d33b-44c5-808e-5a70163ca707",
   "metadata": {
    "tags": []
   },
   "source": [
    "# Brain Scans Model"
   ]
  },
  {
   "cell_type": "markdown",
   "id": "f5782eb7-6745-4cf2-b613-78452b5670ea",
   "metadata": {},
   "source": [
    "#### Orginal Model"
   ]
  },
  {
   "cell_type": "code",
   "execution_count": 1,
   "id": "b2d318c5-023a-41a9-aacc-6eb8ea24cc85",
   "metadata": {},
   "outputs": [],
   "source": [
    "# Model: \"sequential\"\n",
    "# _________________________________________________________________\n",
    "# Layer (type)                 Output Shape              Param #   \n",
    "# =================================================================\n",
    "# conv2d (Conv2D)              (None, 70, 59, 256)       20992     \n",
    "# _________________________________________________________________\n",
    "# max_pooling2d (MaxPooling2D) (None, 23, 19, 256)       0         \n",
    "# _________________________________________________________________\n",
    "# conv2d_1 (Conv2D)            (None, 8, 7, 256)         5308672   \n",
    "# _________________________________________________________________\n",
    "# max_pooling2d_1 (MaxPooling2 (None, 2, 2, 256)         0         \n",
    "# _________________________________________________________________\n",
    "# flatten (Flatten)            (None, 1024)              0         \n",
    "# _________________________________________________________________\n",
    "# dense (Dense)                (None, 100)               102500    \n",
    "# _________________________________________________________________\n",
    "# dropout (Dropout)            (None, 100)               0         \n",
    "# _________________________________________________________________\n",
    "# dense_1 (Dense)              (None, 4)                 404       \n",
    "# =================================================================\n",
    "# Total params: 5,432,568\n",
    "# Trainable params: 5,432,568\n",
    "# Non-trainable params: 0\n",
    "# _________________________________________________________________"
   ]
  },
  {
   "cell_type": "code",
   "execution_count": 2,
   "id": "a4b417a6-358b-423c-9366-6525dce9b4f3",
   "metadata": {},
   "outputs": [],
   "source": [
    "# 144/144 [==============================] - 2s 11ms/step - loss: 0.1732 - categorical_accuracy: 0.9375\n",
    "# Train loss: 0.17316968739032745\n",
    "# Train accuracy: 0.9375\n",
    "# 17/17 [==============================] - 0s 11ms/step - loss: 0.2557 - categorical_accuracy: 0.8928\n",
    "# validation loss: 0.25566068291664124\n",
    "# validation accuracy: 0.892787516117096"
   ]
  },
  {
   "cell_type": "code",
   "execution_count": 3,
   "id": "0081abfb-60fb-492d-85c4-278d867b513e",
   "metadata": {},
   "outputs": [],
   "source": [
    "# 40/40 [==============================] - 1s 14ms/step - loss: 1.0682 - categorical_accuracy: 0.6106\n",
    "# Test loss: 1.0682283639907837\n",
    "# Test accuracy: 0.6106333136558533"
   ]
  },
  {
   "cell_type": "markdown",
   "id": "cf6f0baa-82e3-4d22-b4e3-997833c8fb2a",
   "metadata": {},
   "source": [
    "We found that the model is essentially memorizing the training set and not learning features of the images for feature detection. To combat this we tried to add more dropout layers, but that did not do much to change the output [2]."
   ]
  },
  {
   "cell_type": "markdown",
   "id": "f5f2ab0a-8d54-4cfc-8c12-433995b3422d",
   "metadata": {
    "tags": []
   },
   "source": [
    "### Tweaks"
   ]
  },
  {
   "cell_type": "markdown",
   "id": "24263e48-3afb-4dd1-b451-4b866a315bd3",
   "metadata": {
    "tags": []
   },
   "source": [
    "#### Data Generator"
   ]
  },
  {
   "cell_type": "markdown",
   "id": "71fa87a0-f595-4378-9c60-85cc9929a9dc",
   "metadata": {},
   "source": [
    "We decided to use a tensorflow module that augments the images randomly as the model trains [3][4]."
   ]
  },
  {
   "cell_type": "code",
   "execution_count": 9,
   "id": "dcdb9cbd-37f0-4447-aa25-8f8598ea20be",
   "metadata": {},
   "outputs": [],
   "source": [
    "train_datagen = tf.keras.preprocessing.image.ImageDataGenerator(\n",
    "    rotation_range=20,\n",
    "    width_shift_range=0.2,\n",
    "    height_shift_range=0.2,\n",
    "    shear_range=0.2,\n",
    "    zoom_range=0.2,\n",
    "    horizontal_flip=True,\n",
    "    fill_mode='nearest'\n",
    ")"
   ]
  },
  {
   "cell_type": "markdown",
   "id": "18c1e13d-b382-4b72-9a92-0298ff9260a4",
   "metadata": {},
   "source": [
    "- This code here creates the image generator, what the parameters do are [4]\n",
    "    - rotation_range: the range in which the image is rotated at random\n",
    "    - width_shift/height_shift_range: the range in which the image is shifted\n",
    "    - shear_range: shear intensity\n",
    "    - zoom_range: range for random zoom\n",
    "    - horizontal_flip: randomly flip image\n",
    "    - fill_mode: how to fill the empty parts of the image after augmentation"
   ]
  },
  {
   "cell_type": "markdown",
   "id": "3f657565-6d17-43df-8eab-e743fc052fc4",
   "metadata": {},
   "source": [
    "We found that adding this data generator reduced accuracy, so going to remove the dropout layers because with the augmentation the model should not overfit as much"
   ]
  },
  {
   "cell_type": "code",
   "execution_count": 4,
   "id": "29458d6b-a209-4c18-b1ea-d2213c32d04c",
   "metadata": {},
   "outputs": [],
   "source": [
    "# 144/144 [==============================] - 2s 11ms/step - loss: 1.0328 - categorical_accuracy: 0.4978 - accuracy: 0.4978\n",
    "# Train loss: 1.032755970954895\n",
    "# Train accuracy: 0.4978298544883728\n",
    "# 17/17 [==============================] - 0s 11ms/step - loss: 1.0026 - categorical_accuracy: 0.5185 - accuracy: 0.5185\n",
    "# validation loss: 1.0026379823684692\n",
    "# validation accuracy: 0.5185185074806213\n",
    "# 40/40 [==============================] - 0s 11ms/step - loss: 1.0257 - categorical_accuracy: 0.5004 - accuracy: 0.5004\n",
    "# Test loss: 1.02567720413208\n",
    "# Test accuracy: 0.5003909468650818"
   ]
  },
  {
   "cell_type": "markdown",
   "id": "12552a5d-2ed2-408f-9ec8-4876557f1d67",
   "metadata": {},
   "source": [
    "Model stopped learning after a few epochs\n",
    "- even though the augmentation reduced accuracy the train, validation, and test are all similiar meaning no overfitting is occurring."
   ]
  },
  {
   "cell_type": "code",
   "execution_count": null,
   "id": "7af9f5fc-5066-4b57-a0e5-a43b0eeffa20",
   "metadata": {},
   "outputs": [],
   "source": [
    "train_datagen = tf.keras.preprocessing.image.ImageDataGenerator(\n",
    "   horizontal_flip=True,\n",
    "    vertical_flip=True,\n",
    "    fill_mode='nearest'\n",
    ")"
   ]
  },
  {
   "cell_type": "markdown",
   "id": "64136726-493b-4354-8aae-f8e036727c92",
   "metadata": {},
   "source": [
    "We decided that we wanted to reduce the augmentation because the images may not be retaining their original views because they are too distorted"
   ]
  },
  {
   "cell_type": "code",
   "execution_count": null,
   "id": "0410ac5a-3c79-4ae1-a96b-37ac24290097",
   "metadata": {},
   "outputs": [],
   "source": [
    "# 144/144 [==============================] - 2s 11ms/step - loss: 0.5658 - categorical_accuracy: 0.7773 - accuracy: 0.7773\n",
    "# Train loss: 0.5658342838287354\n",
    "# Train accuracy: 0.77734375\n",
    "# 17/17 [==============================] - 0s 12ms/step - loss: 0.6272 - categorical_accuracy: 0.7505 - accuracy: 0.7505\n",
    "# validation loss: 0.6271790862083435\n",
    "# validation accuracy: 0.7504873275756836\n",
    "# 40/40 [==============================] - 1s 12ms/step - loss: 0.8808 - categorical_accuracy: 0.6075 - accuracy: 0.6075\n",
    "# Test loss: 0.8808310031890869\n",
    "# Test accuracy: 0.6075058579444885"
   ]
  },
  {
   "cell_type": "markdown",
   "id": "22fb102a-b927-4ba3-928c-b697a1477427",
   "metadata": {},
   "source": [
    "Increasing the epochs caused overfitting to occur. The train accuracy and validation accuracy rose to ~99%, but test accuracy stayed relatively the same.\n",
    "\n",
    "Going to try to add more augmentation now."
   ]
  },
  {
   "cell_type": "code",
   "execution_count": null,
   "id": "e2d08755-5f32-484f-a38f-8f9ad93de446",
   "metadata": {},
   "outputs": [],
   "source": [
    "train_datagen = tf.keras.preprocessing.image.ImageDataGenerator(\n",
    "    rotation_range=20,\n",
    "    width_shift_range=10,\n",
    "    height_shift_range=10,\n",
    "    horizontal_flip=True,\n",
    "    vertical_flip=True,\n",
    "    fill_mode='nearest'\n",
    ")"
   ]
  },
  {
   "cell_type": "code",
   "execution_count": null,
   "id": "89add940-c4b0-4846-849f-5a32482fab22",
   "metadata": {},
   "outputs": [],
   "source": [
    "# 144/144 [==============================] - 2s 11ms/step - loss: 0.8075 - categorical_accuracy: 0.6092 - accuracy: 0.6092\n",
    "# Train loss: 0.8075031042098999\n",
    "# Train accuracy: 0.6091579794883728\n",
    "# 17/17 [==============================] - 0s 11ms/step - loss: 0.8440 - categorical_accuracy: 0.5770 - accuracy: 0.5770\n",
    "# validation loss: 0.843957245349884\n",
    "# validation accuracy: 0.5769980549812317\n",
    "# 40/40 [==============================] - 0s 11ms/step - loss: 0.9831 - categorical_accuracy: 0.5559 - accuracy: 0.5559\n",
    "# Test loss: 0.9831058979034424\n",
    "# Test accuracy: 0.5559030771255493"
   ]
  },
  {
   "cell_type": "code",
   "execution_count": 46,
   "id": "b8427986-677f-4207-ae6b-0ae4e0a32c78",
   "metadata": {},
   "outputs": [
    {
     "data": {
      "image/png": "[encoded data removed]",
      "text/plain": [
       "<Figure size 432x288 with 1 Axes>"
      ]
     },
     "metadata": {
      "needs_background": "light"
     },
     "output_type": "display_data"
    },
    {
     "data": {
      "image/png": "[encoded data removed]",
      "text/plain": [
       "<Figure size 432x288 with 1 Axes>"
      ]
     },
     "metadata": {
      "needs_background": "light"
     },
     "output_type": "display_data"
    }
   ],
   "source": [
    "import matplotlib.pyplot as plt\n",
    "\n",
    "epochs = range(1, len(acc) + 1)\n",
    "\n",
    "plt.plot(epochs, acc, 'b', label='Training acc')\n",
    "# plt.plot(epochs, val_acc, 'b', label='Validation acc')\n",
    "plt.title('Training accuracy')\n",
    "plt.legend()\n",
    "\n",
    "plt.savefig(\"graphs1.jpg\")\n",
    "\n",
    "plt.figure()\n",
    "\n",
    "plt.plot(epochs, loss, 'b', label='Training loss')\n",
    "# plt.plot(epochs, val_loss, 'b', label='Validation loss')\n",
    "plt.title('Training loss')\n",
    "plt.legend()\n",
    "\n",
    "plt.savefig(\"graphs2.jpg\")\n",
    "\n",
    "plt.show()"
   ]
  },
  {
   "cell_type": "markdown",
   "id": "203f1c58-ddc0-4410-92ff-75848b6cc4d0",
   "metadata": {},
   "source": [
    "After adding more augmentation the overfitting decreased, but overall accuracy did. The effect of augmentating the data can be found in the bouncy loss and accuracy. The reason why the graph is bouncy is because the data augmentation is random, and some of the images in the batch to train the model may not be recognizable to the model before. It does not allow the model to memorize the images, but rather have it look for specific features."
   ]
  },
  {
   "cell_type": "markdown",
   "id": "7469df44-62c7-4421-94d3-a42ecbbea7a8",
   "metadata": {},
   "source": [
    "We added epochs and more augmentation and the accuracy increased once again. Going to try to lower the batch size so more steps will occur during the training. Very little to none overfitting occuring."
   ]
  },
  {
   "cell_type": "code",
   "execution_count": 1,
   "id": "2be2da93-8c08-4564-aafd-b9b0da5795a4",
   "metadata": {},
   "outputs": [],
   "source": [
    "# 144/144 [==============================] - 2s 10ms/step - loss: 0.7808 - categorical_accuracy: 0.6148 - accuracy: 0.6148\n",
    "# Train loss: 0.7807929515838623\n",
    "# Train accuracy: 0.6148003339767456\n",
    "# 17/17 [==============================] - 0s 11ms/step - loss: 0.8054 - categorical_accuracy: 0.6218 - accuracy: 0.6218\n",
    "# validation loss: 0.805367648601532\n",
    "# validation accuracy: 0.6218323707580566\n",
    "# 40/40 [==============================] - 1s 13ms/step - loss: 0.9841 - categorical_accuracy: 0.5809 - accuracy: 0.5809\n",
    "# Test loss: 0.9841442108154297\n",
    "# Test accuracy: 0.5809226036071777"
   ]
  },
  {
   "cell_type": "code",
   "execution_count": 19,
   "id": "79c85893-2f37-459f-9fb5-27dbee31bf9a",
   "metadata": {},
   "outputs": [
    {
     "data": {
      "image/png": "[encoded data removed]",
      "text/plain": [
       "<Figure size 432x288 with 1 Axes>"
      ]
     },
     "metadata": {
      "needs_background": "light"
     },
     "output_type": "display_data"
    },
    {
     "data": {
      "image/png": "[encoded data removed]",
      "text/plain": [
       "<Figure size 432x288 with 1 Axes>"
      ]
     },
     "metadata": {
      "needs_background": "light"
     },
     "output_type": "display_data"
    }
   ],
   "source": [
    "import matplotlib.pyplot as plt\n",
    "\n",
    "epochs = range(1, len(acc) + 1)\n",
    "\n",
    "plt.plot(epochs, acc, 'b', label='Training acc')\n",
    "# plt.plot(epochs, val_acc, 'b', label='Validation acc')\n",
    "plt.title('Training accuracy')\n",
    "plt.legend()\n",
    "\n",
    "plt.savefig(\"graphs1.jpg\")\n",
    "\n",
    "plt.figure()\n",
    "\n",
    "plt.plot(epochs, loss, 'b', label='Training loss')\n",
    "# plt.plot(epochs, val_loss, 'b', label='Validation loss')\n",
    "plt.title('Training loss')\n",
    "plt.legend()\n",
    "\n",
    "plt.savefig(\"graphs2.jpg\")\n",
    "\n",
    "plt.show()"
   ]
  },
  {
   "cell_type": "markdown",
   "id": "a9f695b8-751e-4e48-808a-d9e34ff24465",
   "metadata": {},
   "source": [
    "Lowering batch size did not do anything productive to the model. It made the model stop learning earlier"
   ]
  },
  {
   "cell_type": "markdown",
   "id": "9e722708-72b9-4ae4-aa44-4e4676e08303",
   "metadata": {},
   "source": [
    "#### New Architecture"
   ]
  },
  {
   "cell_type": "code",
   "execution_count": null,
   "id": "779b42fe-a021-4326-ab1f-ebb3599a1093",
   "metadata": {},
   "outputs": [],
   "source": [
    "# Model: \"sequential\"\n",
    "# _________________________________________________________________\n",
    "# Layer (type)                 Output Shape              Param #   \n",
    "# =================================================================\n",
    "# conv2d (Conv2D)              (None, 70, 59, 256)       20992     \n",
    "# _________________________________________________________________\n",
    "# max_pooling2d (MaxPooling2D) (None, 24, 20, 256)       0         \n",
    "# _________________________________________________________________\n",
    "# conv2d_1 (Conv2D)            (None, 8, 7, 256)         5308672   \n",
    "# _________________________________________________________________\n",
    "# max_pooling2d_1 (MaxPooling2 (None, 3, 3, 256)         0         \n",
    "# _________________________________________________________________\n",
    "# conv2d_2 (Conv2D)            (None, 1, 1, 256)         5308672   \n",
    "# _________________________________________________________________\n",
    "# max_pooling2d_2 (MaxPooling2 (None, 1, 1, 256)         0         \n",
    "# _________________________________________________________________\n",
    "# flatten (Flatten)            (None, 256)               0         \n",
    "# _________________________________________________________________\n",
    "# dense (Dense)                (None, 100)               25700     \n",
    "# _________________________________________________________________\n",
    "# dense_1 (Dense)              (None, 4)                 404       \n",
    "# =================================================================\n",
    "# Total params: 10,664,440\n",
    "# Trainable params: 10,664,440\n",
    "# Non-trainable params: 0\n",
    "# _________________________________________________________________"
   ]
  },
  {
   "cell_type": "markdown",
   "id": "e7b5f7cc-3c9d-4bde-aa84-d5a2911658e3",
   "metadata": {},
   "source": [
    "Decided that the data augmentation does a well enough job to stop overfitting of the images. Want to see what happens when a new convulational layer is added."
   ]
  },
  {
   "cell_type": "code",
   "execution_count": null,
   "id": "1238dfae-3490-4dfa-93e9-57e0df90504a",
   "metadata": {},
   "outputs": [],
   "source": [
    "# 144/144 [==============================] - 2s 12ms/step - loss: 0.9968 - categorical_accuracy: 0.5011 - accuracy: 0.5011\n",
    "# Train loss: 0.996800422668457\n",
    "# Train accuracy: 0.5010850429534912\n",
    "# 17/17 [==============================] - 0s 14ms/step - loss: 1.0087 - categorical_accuracy: 0.5263 - accuracy: 0.5263\n",
    "# validation loss: 1.0086710453033447\n",
    "# validation accuracy: 0.5263158082962036\n",
    "# 40/40 [==============================] - 1s 16ms/step - loss: 0.9638 - categorical_accuracy: 0.5192 - accuracy: 0.5192\n",
    "# Test loss: 0.9638105034828186\n",
    "# Test accuracy: 0.5191555619239807"
   ]
  },
  {
   "cell_type": "markdown",
   "id": "bad71a6d-cd44-44ac-903a-248d1612bb0a",
   "metadata": {},
   "source": [
    "This is after 10 epochs, but training can certaintly continue, so will be increasing epochs."
   ]
  },
  {
   "cell_type": "code",
   "execution_count": 22,
   "id": "88e4040e-6737-4c9a-a887-6750db252926",
   "metadata": {},
   "outputs": [
    {
     "data": {
      "image/png": "[encoded data removed]",
      "text/plain": [
       "<Figure size 432x288 with 1 Axes>"
      ]
     },
     "metadata": {
      "needs_background": "light"
     },
     "output_type": "display_data"
    },
    {
     "data": {
      "image/png": "[encoded data removed]",
      "text/plain": [
       "<Figure size 432x288 with 1 Axes>"
      ]
     },
     "metadata": {
      "needs_background": "light"
     },
     "output_type": "display_data"
    }
   ],
   "source": [
    "import matplotlib.pyplot as plt\n",
    "\n",
    "epochs = range(1, len(acc) + 1)\n",
    "\n",
    "plt.plot(epochs, acc, 'b', label='Training acc')\n",
    "# plt.plot(epochs, val_acc, 'b', label='Validation acc')\n",
    "plt.title('Training accuracy')\n",
    "plt.legend()\n",
    "\n",
    "plt.savefig(\"graphs1.jpg\")\n",
    "\n",
    "plt.figure()\n",
    "\n",
    "plt.plot(epochs, loss, 'b', label='Training loss')\n",
    "# plt.plot(epochs, val_loss, 'b', label='Validation loss')\n",
    "plt.title('Training loss')\n",
    "plt.legend()\n",
    "\n",
    "plt.savefig(\"graphs2.jpg\")\n",
    "\n",
    "plt.show()"
   ]
  },
  {
   "cell_type": "markdown",
   "id": "b1a904ff-d69d-4d25-ad6b-a89c60b84d37",
   "metadata": {},
   "source": [
    "More epochs did not help that much. Test accuracy increased to 55%."
   ]
  },
  {
   "cell_type": "markdown",
   "id": "e662ba49-32ad-4798-a35f-9c111e357dbb",
   "metadata": {
    "tags": []
   },
   "source": [
    "# Sources"
   ]
  },
  {
   "cell_type": "markdown",
   "id": "7f05d6f4-9a30-4a6f-b2da-4f774df47b43",
   "metadata": {},
   "source": [
    "[1] https://www.tensorflow.org/api_docs/python/tf/keras/Model#fit\n",
    "- learned what class weight is and how to use\n",
    "\n",
    "[2] https://machinelearningmastery.com/how-to-reduce-overfitting-with-dropout-regularization-in-keras/\n",
    "- learned that you can add droput to CNN\n",
    "\n",
    "[3] https://betterdatascience.com/tensorflow-for-computer-vision-how-to-increase-model-accuracy-with-data-augmentation/\n",
    "- datagenerator use\n",
    "\n",
    "[4] https://www.tensorflow.org/api_docs/python/tf/keras/preprocessing/image/ImageDataGenerator#fit\n",
    "- datagenerator use"
   ]
  }
 ],
 "metadata": {
  "kernelspec": {
   "display_name": "Python 3.8",
   "language": "python",
   "name": "python3"
  },
  "language_info": {
   "codemirror_mode": {
    "name": "ipython",
    "version": 3
   },
   "file_extension": ".py",
   "mimetype": "text/x-python",
   "name": "python",
   "nbconvert_exporter": "python",
   "pygments_lexer": "ipython3",
   "version": "3.8.6"
  }
 },
 "nbformat": 4,
 "nbformat_minor": 5
}
