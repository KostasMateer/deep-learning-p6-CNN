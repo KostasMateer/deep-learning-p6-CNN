{
 "cells": [
  {
   "cell_type": "code",
   "execution_count": 1,
   "id": "3d046145-993a-495c-94fb-e132a920b1f5",
   "metadata": {},
   "outputs": [],
   "source": [
    "import numpy as np\n",
    "import os\n",
    "import PIL\n",
    "import PIL.Image\n",
    "import tensorflow as tf\n",
    "import pathlib\n",
    "import scipy.io as sci\n",
    "import pathlib\n",
    "from tensorflow.keras.preprocessing.image import ImageDataGenerator\n",
    "import matplotlib.pyplot as plt\n",
    "from tensorflow.keras import datasets, layers, models\n",
    "from keras.layers import BatchNormalization, Dropout\n",
    "import matplotlib.pyplot as plt\n",
    "import tensorflow.keras as keras\n",
    "from tensorflow.keras.datasets import mnist\n",
    "from tensorflow.keras.models import Sequential\n",
    "from tensorflow.keras.layers import Dense, Dropout, Flatten\n",
    "from tensorflow.keras.layers import Conv2D, MaxPooling2D\n",
    "from tensorflow.keras import backend as K\n",
    "from tensorflow.keras.applications.resnet50 import ResNet50\n",
    "import joblib"
   ]
  },
  {
   "cell_type": "code",
   "execution_count": null,
   "id": "eae55053-eedf-4d12-9f1b-87b63580bd5e",
   "metadata": {},
   "outputs": [
    {
     "data": {
      "text/plain": [
       "['kmnist', 'NLP', 'chest_xrays', 'brain_scans', 'birds', 'emnist']"
      ]
     },
     "execution_count": 9,
     "metadata": {},
     "output_type": "execute_result"
    }
   ],
   "source": [
    "from os import listdir as ls\n",
    "ls(\"/home/DAVIDSON/brwiedenbeck/public\")"
   ]
  },
  {
   "cell_type": "code",
   "execution_count": null,
   "id": "3666e377-2c57-4ac2-91a8-79a5c293a038",
   "metadata": {},
   "outputs": [],
   "source": [
    "trainGen = tf.keras.preprocessing.image.ImageDataGenerator(\n",
    "    featurewise_center=False,\n",
    "    samplewise_center=False,\n",
    "    featurewise_std_normalization=False,\n",
    "    samplewise_std_normalization=False,\n",
    "    zca_whitening=False,\n",
    "    zca_epsilon=1e-06,\n",
    "    rotation_range=0,\n",
    "    width_shift_range=0.0,\n",
    "    height_shift_range=0.0,\n",
    "    brightness_range=[0.1, 10.0],\n",
    "    shear_range=0.0,\n",
    "    zoom_range=[0,50],\n",
    "    channel_shift_range=0.0,\n",
    "    fill_mode='nearest',\n",
    "    cval=0.0,\n",
    "    horizontal_flip=True,\n",
    "    vertical_flip=True,\n",
    "    rescale=True,\n",
    "    preprocessing_function=None\n",
    ")"
   ]
  },
  {
   "cell_type": "code",
   "execution_count": null,
   "id": "007d213b-e597-4b48-a4e4-c5668f4a4a66",
   "metadata": {},
   "outputs": [
    {
     "name": "stdout",
     "output_type": "stream",
     "text": [
      "Found 70626 images belonging to 450 classes.\n",
      "Found 2250 images belonging to 450 classes.\n"
     ]
    }
   ],
   "source": [
    "train_datagen = ImageDataGenerator(\n",
    "        rescale=1./255,\n",
    "        shear_range=0.2,\n",
    "        zoom_range=0.2,\n",
    "        horizontal_flip=True)\n",
    "test_datagen = ImageDataGenerator(rescale=1./255)\n",
    "train_generator = train_datagen.flow_from_directory(\n",
    "        directory = 'birds/train',\n",
    "        color_mode = 'grayscale',\n",
    "        target_size=(180, 180),\n",
    "        batch_size=32,\n",
    "        class_mode='categorical')\n",
    "validation_generator = train_datagen.flow_from_directory(\n",
    "        directory = 'birds/valid',\n",
    "        color_mode = 'grayscale',\n",
    "        target_size=(180, 180),\n",
    "        batch_size=32,\n",
    "        class_mode='categorical')"
   ]
  },
  {
   "cell_type": "code",
   "execution_count": 103,
   "id": "193a31b2-a498-4df7-8ce4-20ca8d83ea81",
   "metadata": {},
   "outputs": [],
   "source": [
    "model1 = models.Sequential()\n",
    "model1.add(layers.Conv2D(32, (3, 3),strides = 1, activation='relu', input_shape=(180, 180, 1)))\n",
    "model1.add(BatchNormalization())\n",
    "model1.add(layers.MaxPooling2D((4, 4)))\n",
    "model1.add(Dropout(0.5))\n",
    "\n",
    "model1.add(layers.Conv2D(64, (3, 3),strides = 1, activation='relu'))\n",
    "model1.add(BatchNormalization())\n",
    "model1.add(layers.MaxPooling2D((4, 4)))\n",
    "model1.add(Dropout(0.5))\n",
    "\n",
    "model1.add(layers.Conv2D(100, (3, 3),strides = 1, activation='relu'))\n",
    "model1.add(BatchNormalization())\n",
    "model1.add(layers.MaxPooling2D((4, 4)))\n",
    "model1.add(Dropout(0.5))\n",
    "\n",
    "model1.add(layers.Flatten())\n",
    "model.add(layers.Dense(units=32, activation='relu'))\n",
    "model.add(layers.Dense(units=32, activation='relu'))\n",
    "model1.add(layers.Dense(units=32, activation='relu'))\n",
    "\n",
    "model1.add(layers.Dense(units=450, activation='softmax'))"
   ]
  },
  {
   "cell_type": "code",
   "execution_count": 104,
   "id": "cbbfaa90-51d5-4aff-b5eb-18777eaaa6a8",
   "metadata": {},
   "outputs": [
    {
     "name": "stdout",
     "output_type": "stream",
     "text": [
      "Model: \"sequential_24\"\n",
      "_________________________________________________________________\n",
      "Layer (type)                 Output Shape              Param #   \n",
      "=================================================================\n",
      "conv2d_100 (Conv2D)          (None, 178, 178, 32)      320       \n",
      "_________________________________________________________________\n",
      "module_wrapper_39 (ModuleWra (None, 178, 178, 32)      128       \n",
      "_________________________________________________________________\n",
      "max_pooling2d_65 (MaxPooling (None, 44, 44, 32)        0         \n",
      "_________________________________________________________________\n",
      "dropout_31 (Dropout)         (None, 44, 44, 32)        0         \n",
      "_________________________________________________________________\n",
      "conv2d_101 (Conv2D)          (None, 42, 42, 64)        18496     \n",
      "_________________________________________________________________\n",
      "module_wrapper_40 (ModuleWra (None, 42, 42, 64)        256       \n",
      "_________________________________________________________________\n",
      "max_pooling2d_66 (MaxPooling (None, 10, 10, 64)        0         \n",
      "_________________________________________________________________\n",
      "dropout_32 (Dropout)         (None, 10, 10, 64)        0         \n",
      "_________________________________________________________________\n",
      "conv2d_102 (Conv2D)          (None, 8, 8, 100)         57700     \n",
      "_________________________________________________________________\n",
      "module_wrapper_41 (ModuleWra (None, 8, 8, 100)         400       \n",
      "_________________________________________________________________\n",
      "max_pooling2d_67 (MaxPooling (None, 2, 2, 100)         0         \n",
      "_________________________________________________________________\n",
      "dropout_33 (Dropout)         (None, 2, 2, 100)         0         \n",
      "_________________________________________________________________\n",
      "flatten_18 (Flatten)         (None, 400)               0         \n",
      "_________________________________________________________________\n",
      "dense_46 (Dense)             (None, 32)                12832     \n",
      "_________________________________________________________________\n",
      "dense_47 (Dense)             (None, 450)               14850     \n",
      "=================================================================\n",
      "Total params: 104,982\n",
      "Trainable params: 104,590\n",
      "Non-trainable params: 392\n",
      "_________________________________________________________________\n"
     ]
    }
   ],
   "source": [
    "model1.summary()"
   ]
  },
  {
   "cell_type": "code",
   "execution_count": null,
   "id": "49e30a1d-7b54-4467-b179-0e1b69cf3371",
   "metadata": {},
   "outputs": [
    {
     "name": "stdout",
     "output_type": "stream",
     "text": [
      "Epoch 1/10\n",
      "2208/2208 [==============================] - 258s 117ms/step - loss: 6.0722 - acc: 0.0036 - val_loss: 6.3266 - val_acc: 0.0049\n",
      "Epoch 2/10\n",
      "2208/2208 [==============================] - 261s 118ms/step - loss: 5.8261 - acc: 0.0121 - val_loss: 5.7947 - val_acc: 0.0151\n",
      "Epoch 3/10\n",
      "2208/2208 [==============================] - 256s 116ms/step - loss: 5.4758 - acc: 0.0244 - val_loss: 5.4229 - val_acc: 0.0307\n",
      "Epoch 4/10\n",
      "2208/2208 [==============================] - 265s 120ms/step - loss: 5.2470 - acc: 0.0356 - val_loss: 5.4292 - val_acc: 0.0347\n",
      "Epoch 5/10\n",
      "2208/2208 [==============================] - 267s 121ms/step - loss: 5.0751 - acc: 0.0500 - val_loss: 5.3493 - val_acc: 0.0471\n",
      "Epoch 6/10\n",
      "2208/2208 [==============================] - 260s 118ms/step - loss: 4.9573 - acc: 0.0609 - val_loss: 5.5683 - val_acc: 0.0400\n",
      "Epoch 7/10\n",
      "2208/2208 [==============================] - 265s 120ms/step - loss: 4.8476 - acc: 0.0730 - val_loss: 5.4357 - val_acc: 0.0511\n",
      "Epoch 8/10\n",
      "2208/2208 [==============================] - 272s 123ms/step - loss: 4.7468 - acc: 0.0829 - val_loss: 5.6282 - val_acc: 0.0396\n",
      "Epoch 9/10\n",
      "2208/2208 [==============================] - 261s 118ms/step - loss: 4.6701 - acc: 0.0894 - val_loss: 4.5880 - val_acc: 0.1071\n",
      "Epoch 10/10\n",
      "2200/2208 [============================>.] - ETA: 0s - loss: 4.5996 - acc: 0.0986"
     ]
    }
   ],
   "source": [
    "model1.compile(optimizer=keras.optimizers.Adam(learning_rate=0.001), \n",
    "             loss=keras.losses.categorical_crossentropy,\n",
    "             metrics=['acc'])\n",
    "\n",
    "reduce_lr = tf.keras.callbacks.ReduceLROnPlateau(monitor='val_loss', factor=0.2,\n",
    "                              patience=5, min_lr=0.001)\n",
    "\n",
    "history = model1.fit(train_generator, epochs=10, batch_size = 10, validation_data = validation_generator,callbacks=[reduce_lr])                             "
   ]
  },
  {
   "cell_type": "code",
   "execution_count": 95,
   "id": "426ecd5c-1b54-4556-bb06-da49aa75dad7",
   "metadata": {},
   "outputs": [
    {
     "data": {
      "image/png": "[encoded data removed]",
      "text/plain": [
       "<Figure size 432x288 with 1 Axes>"
      ]
     },
     "metadata": {
      "needs_background": "light"
     },
     "output_type": "display_data"
    }
   ],
   "source": [
    "plt.plot(history.history['acc'])\n",
    "plt.plot(history.history['val_acc'])\n",
    "plt.title('Model Accuracy')\n",
    "plt.ylabel('accuracy')\n",
    "plt.xlabel('epoch')\n",
    "plt.legend(['train', 'val'], loc='upper left')\n",
    "plt.show()"
   ]
  },
  {
   "cell_type": "code",
   "execution_count": 97,
   "id": "a0b4aa0a-544a-4889-89eb-21d8c85d35fb",
   "metadata": {},
   "outputs": [],
   "source": [
    "train_acc = history.history['acc']\n",
    "val_acc = history.history['val_acc']\n",
    "train_loss=history.history['loss']\n",
    "val_loss=history.history['val_loss']"
   ]
  },
  {
   "cell_type": "code",
   "execution_count": 99,
   "id": "58ec59d0-d3af-4b01-b1cb-24587bad63b1",
   "metadata": {},
   "outputs": [
    {
     "data": {
      "text/plain": [
       "['model5_val_acc.pkl']"
      ]
     },
     "execution_count": 99,
     "metadata": {},
     "output_type": "execute_result"
    }
   ],
   "source": [
    "joblib.dump(train_acc,'model6_train_acc.pkl')\n",
    "joblib.dump(val_acc,'model6_val_acc.pkl')"
   ]
  },
  {
   "cell_type": "code",
   "execution_count": 98,
   "id": "c60fee74-371b-450b-8560-350ce4fa0a84",
   "metadata": {},
   "outputs": [
    {
     "data": {
      "image/png": "[encoded data removed]",
      "text/plain": [
       "<Figure size 432x288 with 1 Axes>"
      ]
     },
     "metadata": {
      "needs_background": "light"
     },
     "output_type": "display_data"
    }
   ],
   "source": [
    "plt.plot(history.history['loss'])\n",
    "plt.plot(history.history['val_loss'])\n",
    "plt.title('Model Loss')\n",
    "plt.ylabel('loss')\n",
    "plt.xlabel('epoch')\n",
    "plt.legend(['train', 'val'], loc='upper left')\n",
    "plt.show()"
   ]
  },
  {
   "cell_type": "code",
   "execution_count": 100,
   "id": "a1555e03-617d-496c-b9f5-bac20d844f6f",
   "metadata": {},
   "outputs": [
    {
     "data": {
      "text/plain": [
       "['model5_train_loss.pkl']"
      ]
     },
     "execution_count": 100,
     "metadata": {},
     "output_type": "execute_result"
    }
   ],
   "source": [
    "joblib.dump(val_loss,'model6_val_loss.pkl')\n",
    "joblib.dump(train_loss,'model6_train_loss.pkl')"
   ]
  }
 ],
 "metadata": {
  "kernelspec": {
   "display_name": "TensorFlow +GPU",
   "language": "python",
   "name": "python3-tensorflow-gpu"
  },
  "language_info": {
   "codemirror_mode": {
    "name": "ipython",
    "version": 3
   },
   "file_extension": ".py",
   "mimetype": "text/x-python",
   "name": "python",
   "nbconvert_exporter": "python",
   "pygments_lexer": "ipython3",
   "version": "3.8.6"
  }
 },
 "nbformat": 4,
 "nbformat_minor": 5
}
